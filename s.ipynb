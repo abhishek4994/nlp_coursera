mini_challenge = ['Hello World','Hello Hello World','Hello World world world']
vectorizer = CountVectorizer()
X = vectorizer.fit_transform(mini_challenge)
print(X.toarray())
